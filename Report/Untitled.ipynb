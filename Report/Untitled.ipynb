{
 "cells": [
  {
   "cell_type": "code",
   "execution_count": 1,
   "id": "b27335c9-560a-4bd5-840e-5007edd00285",
   "metadata": {},
   "outputs": [
    {
     "name": "stdout",
     "output_type": "stream",
     "text": [
      "File size: 56343453 bytes\n",
      "Opening file as text...\n",
      "File preview:\n",
      "﻿InvoiceNo,StockCode,Description,Quantity,InvoiceDate,UnitPrice,CustomerID,Country,CustomerAge,CustomerGender\n",
      "536365,85123A,WHITE HANGING HEART T-LIGHT HOLDER,6,2010-12-01 08:26:00,2.55,17850,United Kingdom,56,female\n",
      "536365,71053,WHITE METAL LANTERN,6,2010-12-01 08:26:00,3.39,17850,United Kingdom,56,female\n",
      "536365,84406B,CREAM CUPID HEARTS COAT HANGER,8,2010-12-01 08:26:00,2.75,17850,United Kingdom,56,female\n",
      "536365,84029G,KNITTED UNION FLAG HOT WATER BOTTLE,6,2010-12-01 08:26:00,3.39,17850,United\n",
      "File header (magic bytes): b'\\xef\\xbb\\xbfInvoi'\n"
     ]
    }
   ],
   "source": [
    "import os\n",
    "\n",
    "# Replace 'your_file.unknown' with your actual file path\n",
    "file_path = '5flKr__A8bVZqr9RgLB3jyii8Wb1ioCScp_Mdp7llXc.unknown'\n",
    "\n",
    "# Determine the file size and check existence\n",
    "if not os.path.exists(file_path):\n",
    "    print(f\"File not found: {file_path}\")\n",
    "else:\n",
    "    print(f\"File size: {os.path.getsize(file_path)} bytes\")\n",
    "\n",
    "# Try to read the file as text\n",
    "try:\n",
    "    with open(file_path, 'r', encoding='utf-8') as file:\n",
    "        print(\"Opening file as text...\")\n",
    "        content = file.read(500)  # Read the first 500 characters for inspection\n",
    "        print(\"File preview:\")\n",
    "        print(content)\n",
    "except UnicodeDecodeError:\n",
    "    print(\"File is not a text file or contains binary data.\")\n",
    "\n",
    "# Try to identify the file type\n",
    "file_header = None\n",
    "with open(file_path, 'rb') as binary_file:\n",
    "    file_header = binary_file.read(8)  # Read the first 8 bytes\n",
    "    print(f\"File header (magic bytes): {file_header}\")\n",
    "\n",
    "# Based on the content or header, process the file with the appropriate library\n"
   ]
  },
  {
   "cell_type": "code",
   "execution_count": 3,
   "id": "e1493014-623c-4c8a-98ce-07dcf426825c",
   "metadata": {},
   "outputs": [
    {
     "name": "stdout",
     "output_type": "stream",
     "text": [
      "File size: 56343453 bytes\n",
      "Attempting to read 5flKr__A8bVZqr9RgLB3jyii8Wb1ioCScp_Mdp7llXc.unknown...\n",
      "Trying to load as CSV...\n",
      "  InvoiceNo StockCode                          Description  Quantity  \\\n",
      "0    536365    85123A   WHITE HANGING HEART T-LIGHT HOLDER         6   \n",
      "1    536365     71053                  WHITE METAL LANTERN         6   \n",
      "2    536365    84406B       CREAM CUPID HEARTS COAT HANGER         8   \n",
      "3    536365    84029G  KNITTED UNION FLAG HOT WATER BOTTLE         6   \n",
      "4    536365    84029E       RED WOOLLY HOTTIE WHITE HEART.         6   \n",
      "\n",
      "           InvoiceDate  UnitPrice  CustomerID         Country  CustomerAge  \\\n",
      "0  2010-12-01 08:26:00       2.55     17850.0  United Kingdom         56.0   \n",
      "1  2010-12-01 08:26:00       3.39     17850.0  United Kingdom         56.0   \n",
      "2  2010-12-01 08:26:00       2.75     17850.0  United Kingdom         56.0   \n",
      "3  2010-12-01 08:26:00       3.39     17850.0  United Kingdom         56.0   \n",
      "4  2010-12-01 08:26:00       3.39     17850.0  United Kingdom         56.0   \n",
      "\n",
      "  CustomerGender  \n",
      "0         female  \n",
      "1         female  \n",
      "2         female  \n",
      "3         female  \n",
      "4         female  \n"
     ]
    }
   ],
   "source": [
    "import pandas as pd\n",
    "import os\n",
    "\n",
    "# Replace 'your_file.unknown' with your actual file path\n",
    "file_path = '5flKr__A8bVZqr9RgLB3jyii8Wb1ioCScp_Mdp7llXc.unknown'\n",
    "\n",
    "# Check if file exists\n",
    "if not os.path.exists(file_path):\n",
    "    print(f\"File not found: {file_path}\")\n",
    "else:\n",
    "    print(f\"File size: {os.path.getsize(file_path)} bytes\")\n",
    "    print(f\"Attempting to read {file_path}...\")\n",
    "\n",
    "# Function to try loading the file as a DataFrame\n",
    "def try_load_dataframe(file_path):\n",
    "    try:\n",
    "        print(\"Trying to load as CSV...\")\n",
    "        df = pd.read_csv(file_path)\n",
    "        print(df.head())\n",
    "        return\n",
    "    except Exception as e:\n",
    "        print(f\"Could not load as CSV: {e}\")\n",
    "    \n",
    "    try:\n",
    "        print(\"Trying to load as Excel...\")\n",
    "        df = pd.read_excel(file_path)\n",
    "        print(df.head())\n",
    "        return\n",
    "    except Exception as e:\n",
    "        print(f\"Could not load as Excel: {e}\")\n",
    "    \n",
    "    try:\n",
    "        print(\"Trying to load as JSON...\")\n",
    "        df = pd.read_json(file_path)\n",
    "        print(df.head())\n",
    "        return\n",
    "    except Exception as e:\n",
    "        print(f\"Could not load as JSON: {e}\")\n",
    "    \n",
    "    try:\n",
    "        print(\"Trying to load as Pickle...\")\n",
    "        df = pd.read_pickle(file_path)\n",
    "        print(df.head())\n",
    "        return\n",
    "    except Exception as e:\n",
    "        print(f\"Could not load as Pickle: {e}\")\n",
    "\n",
    "    print(\"File format not recognized or supported.\")\n",
    "\n",
    "# Call the function to load the file\n",
    "try_load_dataframe(file_path)\n"
   ]
  },
  {
   "cell_type": "code",
   "execution_count": null,
   "id": "666d5172-e787-4126-a11f-11d9c85fad5c",
   "metadata": {},
   "outputs": [],
   "source": []
  },
  {
   "cell_type": "code",
   "execution_count": null,
   "id": "a80223bb-bbe9-4f15-a0f1-12eb59f884eb",
   "metadata": {},
   "outputs": [],
   "source": []
  },
  {
   "cell_type": "code",
   "execution_count": null,
   "id": "62f10c9b-ee33-4738-a36e-9dfa02d5caf3",
   "metadata": {},
   "outputs": [],
   "source": []
  },
  {
   "cell_type": "code",
   "execution_count": null,
   "id": "0bf83290-fd8a-47bf-90c8-08240acdafc8",
   "metadata": {},
   "outputs": [],
   "source": []
  },
  {
   "cell_type": "code",
   "execution_count": null,
   "id": "45691c71-8171-4672-b549-a5db01ea6faf",
   "metadata": {},
   "outputs": [],
   "source": []
  },
  {
   "cell_type": "code",
   "execution_count": null,
   "id": "0e84f848-145a-4b15-9a88-f20d5792b073",
   "metadata": {},
   "outputs": [],
   "source": []
  },
  {
   "cell_type": "code",
   "execution_count": null,
   "id": "88f3a136-4e6f-4301-977d-d48f23f44b6a",
   "metadata": {},
   "outputs": [],
   "source": []
  }
 ],
 "metadata": {
  "kernelspec": {
   "display_name": "Python 3 (ipykernel)",
   "language": "python",
   "name": "python3"
  },
  "language_info": {
   "codemirror_mode": {
    "name": "ipython",
    "version": 3
   },
   "file_extension": ".py",
   "mimetype": "text/x-python",
   "name": "python",
   "nbconvert_exporter": "python",
   "pygments_lexer": "ipython3",
   "version": "3.11.5"
  }
 },
 "nbformat": 4,
 "nbformat_minor": 5
}
