{
 "cells": [
  {
   "cell_type": "markdown",
   "id": "e56e7412",
   "metadata": {},
   "source": [
    "# Regression"
   ]
  },
  {
   "cell_type": "code",
   "execution_count": 4,
   "id": "5daec7d9",
   "metadata": {},
   "outputs": [
    {
     "name": "stdout",
     "output_type": "stream",
     "text": [
      "Linear Regression Metrics: MSE=0.05155617495817212, R2=0.09526881980827506\n",
      "Ridge Regression Metrics: MSE=0.051556789329261055, R2=0.09525803854529702\n"
     ]
    }
   ],
   "source": [
    "# Task 2: Regression\n",
    "import pandas as pd\n",
    "from sklearn.model_selection import train_test_split\n",
    "from sklearn.impute import SimpleImputer\n",
    "from sklearn.preprocessing import StandardScaler\n",
    "from sklearn.linear_model import LinearRegression, Ridge\n",
    "from sklearn.metrics import mean_squared_error, r2_score\n",
    "\n",
    "# Step 1: Loading Data, Data Pre-processing, EDA\n",
    "data = pd.read_csv(\"Dataset2/healthcare-dataset-stroke-data.csv\")\n",
    "\n",
    "# Handle missing values\n",
    "imputer = SimpleImputer(strategy='mean')\n",
    "data['bmi'] = imputer.fit_transform(data[['bmi']])\n",
    "\n",
    "# Step 2: Feature Engineering, Creating Train, and Test Datasets\n",
    "# For simplicity, we'll drop 'id' as it's irrelevant for regression\n",
    "data.drop('id', axis=1, inplace=True)\n",
    "\n",
    "# Encoding categorical variables\n",
    "data = pd.get_dummies(data)\n",
    "\n",
    "# Splitting the data into features and target variable\n",
    "X = data.drop(['stroke'], axis=1)\n",
    "y = data['stroke']\n",
    "\n",
    "# Splitting the data into train and test sets\n",
    "X_train, X_test, y_train, y_test = train_test_split(X, y, test_size=0.2, random_state=42)\n",
    "\n",
    "# Step 3: Apply at least 2 algorithms for regression (Training and Testing)\n",
    "# Linear Regression\n",
    "lr_regressor = LinearRegression()\n",
    "lr_regressor.fit(X_train, y_train)\n",
    "lr_pred = lr_regressor.predict(X_test)\n",
    "\n",
    "# Ridge Regression\n",
    "ridge_regressor = Ridge(alpha=1.0)\n",
    "ridge_regressor.fit(X_train, y_train)\n",
    "ridge_pred = ridge_regressor.predict(X_test)\n",
    "\n",
    "# Step 4: Generate at least 2 Evaluation Metrics on each algorithm.\n",
    "def evaluate_regression(y_true, y_pred):\n",
    "    mse = mean_squared_error(y_true, y_pred)\n",
    "    r2 = r2_score(y_true, y_pred)\n",
    "    return mse, r2\n",
    "\n",
    "lr_metrics = evaluate_regression(y_test, lr_pred)\n",
    "ridge_metrics = evaluate_regression(y_test, ridge_pred)\n",
    "\n",
    "# Step 5: Comparing the results.\n",
    "print(\"Linear Regression Metrics: MSE={}, R2={}\".format(*lr_metrics))\n",
    "print(\"Ridge Regression Metrics: MSE={}, R2={}\".format(*ridge_metrics))\n",
    "\n",
    "# Step 6: Fine Tune the best algorithm (if needed).\n",
    "# For fine-tuning, you can use techniques like GridSearchCV or RandomizedSearchCV.\n"
   ]
  },
  {
   "cell_type": "code",
   "execution_count": 5,
   "id": "deb04a3d",
   "metadata": {},
   "outputs": [
    {
     "name": "stdout",
     "output_type": "stream",
     "text": [
      "Best Parameters: {'alpha': 35.67633266935893}\n",
      "Metrics of Fine-Tuned Ridge Regression Model: MSE=0.05158118324690286, R2=0.0948299629963355\n"
     ]
    }
   ],
   "source": [
    "from sklearn.model_selection import RandomizedSearchCV\n",
    "from scipy.stats import uniform\n",
    "\n",
    "# Define the parameter distributions to sample from\n",
    "param_distributions = {\n",
    "    'alpha': uniform(0.001, 100)\n",
    "}\n",
    "\n",
    "# Initialize the RandomizedSearchCV object\n",
    "random_search = RandomizedSearchCV(Ridge(), param_distributions, n_iter=100, cv=5, scoring='neg_mean_squared_error', random_state=42)\n",
    "\n",
    "# Fit the random search to the data\n",
    "random_search.fit(X_train, y_train)\n",
    "\n",
    "# Print the best parameters found\n",
    "print(\"Best Parameters:\", random_search.best_params_)\n",
    "\n",
    "# Get the best model\n",
    "best_ridge_model = random_search.best_estimator_\n",
    "\n",
    "# Evaluate the best model on the test set\n",
    "best_ridge_pred = best_ridge_model.predict(X_test)\n",
    "best_ridge_mse = mean_squared_error(y_test, best_ridge_pred)\n",
    "best_ridge_r2 = r2_score(y_test, best_ridge_pred)\n",
    "\n",
    "print(\"Metrics of Fine-Tuned Ridge Regression Model: MSE={}, R2={}\".format(best_ridge_mse, best_ridge_r2))\n"
   ]
  },
  {
   "cell_type": "code",
   "execution_count": null,
   "id": "f70f7260",
   "metadata": {},
   "outputs": [],
   "source": []
  }
 ],
 "metadata": {
  "kernelspec": {
   "display_name": "Python 3 (ipykernel)",
   "language": "python",
   "name": "python3"
  },
  "language_info": {
   "codemirror_mode": {
    "name": "ipython",
    "version": 3
   },
   "file_extension": ".py",
   "mimetype": "text/x-python",
   "name": "python",
   "nbconvert_exporter": "python",
   "pygments_lexer": "ipython3",
   "version": "3.11.5"
  }
 },
 "nbformat": 4,
 "nbformat_minor": 5
}
